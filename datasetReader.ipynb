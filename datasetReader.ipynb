{
 "cells": [
  {
   "cell_type": "code",
   "execution_count": 3,
   "id": "81c14762-aea3-409a-b3ef-81710c327313",
   "metadata": {},
   "outputs": [
    {
     "name": "stdout",
     "output_type": "stream",
     "text": [
      "(18171, 512) (18171,) (18171, 201)\n"
     ]
    }
   ],
   "source": [
    "import numpy as np\n",
    "fea = np.load('facedata/512.fea.npy')\n",
    "labels = np.load('facedata/512.labels.npy')\n",
    "knng = np.load('facedata/knn.graph.512.bf.npy')\n",
    "print(fea.shape, labels.shape, knng.shape)"
   ]
  },
  {
   "cell_type": "code",
   "execution_count": 8,
   "id": "70211647-ad21-4393-abee-be7ba65a03bd",
   "metadata": {},
   "outputs": [
    {
     "data": {
      "text/plain": [
       "(454590, 512)"
      ]
     },
     "execution_count": 8,
     "metadata": {},
     "output_type": "execute_result"
    }
   ],
   "source": [
    "fea.shape"
   ]
  },
  {
   "cell_type": "code",
   "execution_count": 9,
   "id": "c515ee6f-c35c-4aec-acb2-fb0f38f71fc0",
   "metadata": {},
   "outputs": [
    {
     "data": {
      "text/plain": [
       "(454590,)"
      ]
     },
     "execution_count": 9,
     "metadata": {},
     "output_type": "execute_result"
    }
   ],
   "source": [
    "labels.shape"
   ]
  },
  {
   "cell_type": "code",
   "execution_count": 10,
   "id": "abcfa4e4-659a-4cad-a7bd-a9b3c452b04e",
   "metadata": {},
   "outputs": [
    {
     "data": {
      "text/plain": [
       "(454590, 201)"
      ]
     },
     "execution_count": 10,
     "metadata": {},
     "output_type": "execute_result"
    }
   ],
   "source": [
    "knng.shape"
   ]
  },
  {
   "cell_type": "code",
   "execution_count": 12,
   "id": "ab1d602d-4c13-4d00-a93f-5e2171d16e3b",
   "metadata": {},
   "outputs": [
    {
     "data": {
      "text/plain": [
       "array([198877,  20512, 109932, 361032, 342896, 407903, 341245, 234606,\n",
       "       203172, 102365,  67737, 192078,  48444, 108228, 389596,  89603,\n",
       "       349063, 345595, 313166, 174510,  91671,  55683, 392736, 352819,\n",
       "       247302,   2255,  79532, 337176, 360304, 425228])"
      ]
     },
     "execution_count": 12,
     "metadata": {},
     "output_type": "execute_result"
    }
   ],
   "source": [
    "knng[0][120:150]"
   ]
  },
  {
   "cell_type": "code",
   "execution_count": 14,
   "id": "4aeb3f58-0e55-4a9f-841e-c525dd887061",
   "metadata": {},
   "outputs": [
    {
     "data": {
      "text/plain": [
       "array([-0.04377884, -0.01985471, -0.04351917,  0.0640323 ,  0.00330956,\n",
       "       -0.01854187, -0.00963807,  0.03831843,  0.05365593,  0.01245641,\n",
       "       -0.01547318, -0.0346575 , -0.02141146,  0.03334513,  0.04667708,\n",
       "       -0.02118076,  0.01070365,  0.01209625, -0.03975558,  0.0664845 ,\n",
       "        0.03857118,  0.00932955, -0.03175244,  0.00366183, -0.03686117,\n",
       "       -0.01052562, -0.00261498, -0.09028053, -0.07553598, -0.01419318,\n",
       "       -0.00535621, -0.03461879,  0.00499556, -0.00377465,  0.0608472 ,\n",
       "        0.05836433,  0.06370906,  0.0271638 ,  0.07040264,  0.02801268,\n",
       "        0.05280796,  0.08571065,  0.03569844, -0.01958045, -0.0057745 ,\n",
       "        0.0146859 ,  0.03352247, -0.04151176,  0.04342175, -0.06448369],\n",
       "      dtype=float32)"
      ]
     },
     "execution_count": 14,
     "metadata": {},
     "output_type": "execute_result"
    }
   ],
   "source": [
    "fea[0][150:200]"
   ]
  },
  {
   "cell_type": "code",
   "execution_count": null,
   "id": "b1f6a282-bdd9-43c2-a7b9-b15bdd7371b2",
   "metadata": {},
   "outputs": [],
   "source": []
  }
 ],
 "metadata": {
  "kernelspec": {
   "display_name": "Python 3",
   "language": "python",
   "name": "python3"
  },
  "language_info": {
   "codemirror_mode": {
    "name": "ipython",
    "version": 3
   },
   "file_extension": ".py",
   "mimetype": "text/x-python",
   "name": "python",
   "nbconvert_exporter": "python",
   "pygments_lexer": "ipython3",
   "version": "3.9.7"
  }
 },
 "nbformat": 4,
 "nbformat_minor": 5
}
